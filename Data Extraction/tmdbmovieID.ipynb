{
  "nbformat": 4,
  "nbformat_minor": 0,
  "metadata": {
    "colab": {
      "provenance": []
    },
    "kernelspec": {
      "name": "python3",
      "display_name": "Python 3"
    },
    "language_info": {
      "name": "python"
    }
  },
  "cells": [
    {
      "cell_type": "code",
      "execution_count": null,
      "metadata": {
        "colab": {
          "base_uri": "https://localhost:8080/"
        },
        "id": "tnAgaroPyqbB",
        "outputId": "8bb35735-368a-4997-df11-2aec5eccba4d"
      },
      "outputs": [
        {
          "output_type": "stream",
          "name": "stdout",
          "text": [
            "Retrieved 100 movie IDs (capped at 100). Saved to tmdb_2019_movies.csv\n"
          ]
        }
      ],
      "source": [
        "import requests\n",
        "import csv\n",
        "\n",
        "# Replace with your TMDB API key\n",
        "API_KEY = \"b95c9fdd84a97ae3467206de8b62cfe7\"\n",
        "\n",
        "# Base URL for discover movie endpoint\n",
        "base_url = \"https://api.themoviedb.org/3/discover/movie\"\n",
        "\n",
        "# Parameters for 2019 movies\n",
        "params = {\n",
        "    \"api_key\": API_KEY,\n",
        "    \"release_date.gte\": \"2019-01-01\",\n",
        "    \"release_date.lte\": \"2019-12-31\",\n",
        "}\n",
        "\n",
        "# Open CSV file for writing\n",
        "with open(\"tmdb_2019_movies.csv\", \"w\", newline=\"\") as csvfile:\n",
        "    writer = csv.writer(csvfile)\n",
        "    writer.writerow([\"TMDB ID\"])  # Header row\n",
        "\n",
        "    # Set maximum number of IDs to retrieve\n",
        "    max_ids = 100\n",
        "    retrieved_ids = 0  # Counter for retrieved IDs\n",
        "\n",
        "    # Loop through pages of results\n",
        "    page = 1\n",
        "    while True:\n",
        "        params[\"page\"] = page\n",
        "\n",
        "        response = requests.get(base_url, params=params)\n",
        "        data = response.json()\n",
        "\n",
        "        # Check for errors\n",
        "        if \"status_code\" in data and data[\"status_code\"] != 1:\n",
        "            print(f\"Error: {data['status_message']}\")\n",
        "            break\n",
        "\n",
        "        # Extract movie IDs from results\n",
        "        movie_ids = [movie[\"id\"] for movie in data.get(\"results\", [])]\n",
        "\n",
        "        # Write IDs to CSV and limit retrieval\n",
        "        num_ids_to_write = min(max_ids - retrieved_ids, len(movie_ids))\n",
        "        writer.writerows([[movie_id] for movie_id in movie_ids[:num_ids_to_write]])\n",
        "        retrieved_ids += num_ids_to_write\n",
        "\n",
        "        # Check if enough IDs retrieved or no more pages\n",
        "        if retrieved_ids >= max_ids :\n",
        "            break\n",
        "\n",
        "        page += 1\n",
        "\n",
        "print(f\"Retrieved {retrieved_ids} movie IDs (capped at {max_ids}). Saved to tmdb_2019_movies.csv\")\n"
      ]
    },
    {
      "cell_type": "code",
      "source": [],
      "metadata": {
        "id": "Kzgf4d8y03Jn"
      },
      "execution_count": null,
      "outputs": []
    }
  ]
}